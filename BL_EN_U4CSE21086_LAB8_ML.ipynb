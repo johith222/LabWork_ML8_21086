{
  "cells": [
    {
      "cell_type": "code",
      "execution_count": null,
      "id": "19516e41",
      "metadata": {
        "id": "19516e41",
        "outputId": "49f17959-210c-4273-fa84-cefa5d3c1e45"
      },
      "outputs": [
        {
          "data": {
            "text/html": [
              "<div>\n",
              "<style scoped>\n",
              "    .dataframe tbody tr th:only-of-type {\n",
              "        vertical-align: middle;\n",
              "    }\n",
              "\n",
              "    .dataframe tbody tr th {\n",
              "        vertical-align: top;\n",
              "    }\n",
              "\n",
              "    .dataframe thead th {\n",
              "        text-align: right;\n",
              "    }\n",
              "</style>\n",
              "<table border=\"1\" class=\"dataframe\">\n",
              "  <thead>\n",
              "    <tr style=\"text-align: right;\">\n",
              "      <th></th>\n",
              "      <th>age</th>\n",
              "      <th>income</th>\n",
              "      <th>student</th>\n",
              "      <th>credit_rating</th>\n",
              "      <th>buys_computer</th>\n",
              "    </tr>\n",
              "  </thead>\n",
              "  <tbody>\n",
              "    <tr>\n",
              "      <th>0</th>\n",
              "      <td>&lt;=30</td>\n",
              "      <td>high</td>\n",
              "      <td>no</td>\n",
              "      <td>fair</td>\n",
              "      <td>no</td>\n",
              "    </tr>\n",
              "    <tr>\n",
              "      <th>1</th>\n",
              "      <td>&lt;=30</td>\n",
              "      <td>high</td>\n",
              "      <td>no</td>\n",
              "      <td>excellent</td>\n",
              "      <td>no</td>\n",
              "    </tr>\n",
              "    <tr>\n",
              "      <th>2</th>\n",
              "      <td>31…40</td>\n",
              "      <td>high</td>\n",
              "      <td>no</td>\n",
              "      <td>fair</td>\n",
              "      <td>yes</td>\n",
              "    </tr>\n",
              "    <tr>\n",
              "      <th>3</th>\n",
              "      <td>&gt;40</td>\n",
              "      <td>medium</td>\n",
              "      <td>no</td>\n",
              "      <td>fair</td>\n",
              "      <td>yes</td>\n",
              "    </tr>\n",
              "    <tr>\n",
              "      <th>4</th>\n",
              "      <td>&gt;40</td>\n",
              "      <td>low</td>\n",
              "      <td>yes</td>\n",
              "      <td>fair</td>\n",
              "      <td>yes</td>\n",
              "    </tr>\n",
              "    <tr>\n",
              "      <th>5</th>\n",
              "      <td>&gt;40</td>\n",
              "      <td>low</td>\n",
              "      <td>yes</td>\n",
              "      <td>excellent</td>\n",
              "      <td>no</td>\n",
              "    </tr>\n",
              "    <tr>\n",
              "      <th>6</th>\n",
              "      <td>31…40</td>\n",
              "      <td>low</td>\n",
              "      <td>yes</td>\n",
              "      <td>excellent</td>\n",
              "      <td>yes</td>\n",
              "    </tr>\n",
              "    <tr>\n",
              "      <th>7</th>\n",
              "      <td>&lt;=30</td>\n",
              "      <td>medium</td>\n",
              "      <td>no</td>\n",
              "      <td>fair</td>\n",
              "      <td>no</td>\n",
              "    </tr>\n",
              "    <tr>\n",
              "      <th>8</th>\n",
              "      <td>&lt;=30</td>\n",
              "      <td>low</td>\n",
              "      <td>yes</td>\n",
              "      <td>fair</td>\n",
              "      <td>yes</td>\n",
              "    </tr>\n",
              "    <tr>\n",
              "      <th>9</th>\n",
              "      <td>&gt;40</td>\n",
              "      <td>medium</td>\n",
              "      <td>yes</td>\n",
              "      <td>fair</td>\n",
              "      <td>yes</td>\n",
              "    </tr>\n",
              "    <tr>\n",
              "      <th>10</th>\n",
              "      <td>&lt;=30</td>\n",
              "      <td>medium</td>\n",
              "      <td>yes</td>\n",
              "      <td>excellent</td>\n",
              "      <td>yes</td>\n",
              "    </tr>\n",
              "    <tr>\n",
              "      <th>11</th>\n",
              "      <td>31…40</td>\n",
              "      <td>medium</td>\n",
              "      <td>no</td>\n",
              "      <td>excellent</td>\n",
              "      <td>yes</td>\n",
              "    </tr>\n",
              "    <tr>\n",
              "      <th>12</th>\n",
              "      <td>31…40</td>\n",
              "      <td>high</td>\n",
              "      <td>yes</td>\n",
              "      <td>fair</td>\n",
              "      <td>yes</td>\n",
              "    </tr>\n",
              "    <tr>\n",
              "      <th>13</th>\n",
              "      <td>&gt;40</td>\n",
              "      <td>medium</td>\n",
              "      <td>no</td>\n",
              "      <td>excellent</td>\n",
              "      <td>no</td>\n",
              "    </tr>\n",
              "  </tbody>\n",
              "</table>\n",
              "</div>"
            ],
            "text/plain": [
              "     age   income student credit_rating buys_computer\n",
              "0    <=30    high      no          fair            no\n",
              "1    <=30    high      no     excellent            no\n",
              "2   31…40    high      no          fair           yes\n",
              "3     >40  medium      no          fair           yes\n",
              "4     >40     low     yes          fair           yes\n",
              "5     >40     low     yes     excellent            no\n",
              "6   31…40     low     yes     excellent           yes\n",
              "7    <=30  medium      no          fair            no\n",
              "8    <=30     low     yes          fair           yes\n",
              "9     >40  medium     yes          fair           yes\n",
              "10   <=30  medium     yes     excellent           yes\n",
              "11  31…40  medium      no     excellent           yes\n",
              "12  31…40    high     yes          fair           yes\n",
              "13    >40  medium      no     excellent            no"
            ]
          },
          "execution_count": 1,
          "metadata": {},
          "output_type": "execute_result"
        }
      ],
      "source": [
        "import pandas as pd\n",
        "df=pd.read_csv('lab4_data.csv')\n",
        "df"
      ]
    },
    {
      "cell_type": "code",
      "execution_count": null,
      "id": "96a8c384",
      "metadata": {
        "id": "96a8c384",
        "outputId": "f56eb95e-4e60-4115-f38f-6e38e9544dda"
      },
      "outputs": [
        {
          "name": "stdout",
          "output_type": "stream",
          "text": [
            "probability of yes for buys_computer is  0.6428571428571429\n",
            "probability of no for buys_computer is  0.35714285714285715\n"
          ]
        }
      ],
      "source": [
        "#A1 claculating prior probability for each class\n",
        "count_classes=df['buys_computer'].value_counts()\n",
        "prob_yes=count_classes['yes']/len(df)\n",
        "prob_no=count_classes['no']/len(df)\n",
        "print(\"probability of yes for buys_computer is \",prob_yes)\n",
        "print(\"probability of no for buys_computer is \", prob_no)"
      ]
    },
    {
      "cell_type": "code",
      "execution_count": null,
      "id": "560cdf02",
      "metadata": {
        "id": "560cdf02",
        "outputId": "b8672102-096c-4edd-a386-3e043297bd2a"
      },
      "outputs": [
        {
          "data": {
            "text/plain": [
              "Index(['age ', 'income', 'student', 'credit_rating', 'buys_computer'], dtype='object')"
            ]
          },
          "execution_count": 3,
          "metadata": {},
          "output_type": "execute_result"
        }
      ],
      "source": [
        "df.columns"
      ]
    },
    {
      "cell_type": "code",
      "execution_count": null,
      "id": "925e22e9",
      "metadata": {
        "scrolled": true,
        "id": "925e22e9",
        "outputId": "1b398560-ec23-47c4-f9e0-547557cd5e59"
      },
      "outputs": [
        {
          "data": {
            "text/plain": [
              "age              object\n",
              "income           object\n",
              "student          object\n",
              "credit_rating    object\n",
              "buys_computer    object\n",
              "dtype: object"
            ]
          },
          "execution_count": 4,
          "metadata": {},
          "output_type": "execute_result"
        }
      ],
      "source": [
        "df.dtypes\n"
      ]
    },
    {
      "cell_type": "code",
      "execution_count": 1,
      "id": "b0479fc2",
      "metadata": {
        "colab": {
          "base_uri": "https://localhost:8080/"
        },
        "id": "b0479fc2",
        "outputId": "4ad65647-9b32-46f7-de07-726e01972497"
      },
      "outputs": [
        {
          "output_type": "stream",
          "name": "stdout",
          "text": [
            "Loaded DataFrame:\n",
            "   age  income student credit_rating buys_computer\n",
            "0   30    high      no          fair            no\n",
            "1   35    high      no     excellent            no\n",
            "2   28     low     yes     excellent           yes\n",
            "3   40  medium      no          fair           yes\n",
            "4   25  medium     yes     excellent           yes\n",
            "5   38    high     yes          fair           yes\n",
            "6   20     low     yes          fair           yes\n",
            "7   32  medium      no     excellent           yes\n",
            "8   45    high      no          fair            no\n",
            "9   22  medium      no     excellent           yes\n",
            "\n",
            "Class Conditional Densities for age:\n",
            "Class: no\n",
            "[0.03568668 0.05100483 0.02743777 0.0474887  0.01626578 0.0514439\n",
            " 0.00482967 0.04333945 0.02880335 0.0082641 ]\n",
            "Class: yes\n",
            "[0.05146729 0.03929755 0.05097596 0.01972159 0.04430362 0.02732639\n",
            " 0.02506624 0.04858877 0.0065052  0.0331055 ]\n",
            "\n",
            "Class Conditional Densities for income:\n",
            "Class: no\n",
            "high    1.0\n",
            "Name: income, dtype: float64\n",
            "Class: yes\n",
            "medium    0.571429\n",
            "low       0.285714\n",
            "high      0.142857\n",
            "Name: income, dtype: float64\n",
            "\n",
            "Class Conditional Densities for student:\n",
            "Class: no\n",
            "no    1.0\n",
            "Name: student, dtype: float64\n",
            "Class: yes\n",
            "yes    0.571429\n",
            "no     0.428571\n",
            "Name: student, dtype: float64\n",
            "\n",
            "Class Conditional Densities for credit_rating:\n",
            "Class: no\n",
            "fair         0.666667\n",
            "excellent    0.333333\n",
            "Name: credit_rating, dtype: float64\n",
            "Class: yes\n",
            "excellent    0.571429\n",
            "fair         0.428571\n",
            "Name: credit_rating, dtype: float64\n"
          ]
        }
      ],
      "source": [
        "#A2\n",
        "#A2\n",
        "import pandas as pd\n",
        "from scipy.stats import norm\n",
        "\n",
        "# Define the dataset\n",
        "data = [\n",
        "    [30, 'high', 'no', 'fair', 'no'],\n",
        "    [35, 'high', 'no', 'excellent', 'no'],\n",
        "    [28, 'low', 'yes', 'excellent', 'yes'],\n",
        "    [40, 'medium', 'no', 'fair', 'yes'],\n",
        "    [25, 'medium', 'yes', 'excellent', 'yes'],\n",
        "    [38, 'high', 'yes', 'fair', 'yes'],\n",
        "    [20, 'low', 'yes', 'fair', 'yes'],\n",
        "    [32, 'medium', 'no', 'excellent', 'yes'],\n",
        "    [45, 'high', 'no', 'fair', 'no'],\n",
        "    [22, 'medium', 'no', 'excellent', 'yes'],\n",
        "    # Add the rest of your data here\n",
        "]\n",
        "\n",
        "# Define the column names\n",
        "columns = ['age', 'income', 'student', 'credit_rating', 'buys_computer']\n",
        "\n",
        "# Create a DataFrame from the dataset\n",
        "df = pd.DataFrame(data, columns=columns)\n",
        "\n",
        "# Display the loaded DataFrame\n",
        "print(\"Loaded DataFrame:\")\n",
        "print(df)\n",
        "\n",
        "# Define the class column\n",
        "class_column = 'buys_computer'\n",
        "\n",
        "# Define the features to calculate class conditional densities\n",
        "feature_columns = ['age', 'income', 'student', 'credit_rating']\n",
        "\n",
        "# Calculate class conditional densities\n",
        "for feature in feature_columns:\n",
        "    print(f\"\\nClass Conditional Densities for {feature}:\")\n",
        "    for class_label in df[class_column].unique():\n",
        "        class_data = df[df[class_column] == class_label][feature]\n",
        "\n",
        "        # For categorical features, calculate probability mass function (PMF)\n",
        "        if df[feature].dtype == 'O':\n",
        "            class_conditional_density = class_data.value_counts(normalize=True)\n",
        "        # For continuous features, assume Gaussian distribution and use PDF\n",
        "        else:\n",
        "            mean = class_data.astype(float).mean()\n",
        "            std_dev = class_data.astype(float).std()\n",
        "            class_conditional_density = norm.pdf(df[feature], mean, std_dev)\n",
        "\n",
        "        # Display the results\n",
        "        print(f\"Class: {class_label}\")\n",
        "        print(class_conditional_density)"
      ]
    },
    {
      "cell_type": "code",
      "execution_count": null,
      "id": "87335e8a",
      "metadata": {
        "id": "87335e8a",
        "outputId": "17695295-5245-4398-fee9-c36de3406ff6"
      },
      "outputs": [
        {
          "name": "stdout",
          "output_type": "stream",
          "text": [
            "chi square value  25.200000000000003\n",
            " p value  0.3949583040945451\n",
            " degrees of freedom are  24\n",
            "expected frequencies  [[0.28571429 0.28571429 0.28571429 0.28571429 0.28571429 0.28571429\n",
            "  0.57142857 0.28571429 0.28571429 0.28571429 0.28571429 0.28571429\n",
            "  0.28571429]\n",
            " [0.35714286 0.35714286 0.35714286 0.35714286 0.35714286 0.35714286\n",
            "  0.71428571 0.35714286 0.35714286 0.35714286 0.35714286 0.35714286\n",
            "  0.35714286]\n",
            " [0.35714286 0.35714286 0.35714286 0.35714286 0.35714286 0.35714286\n",
            "  0.71428571 0.35714286 0.35714286 0.35714286 0.35714286 0.35714286\n",
            "  0.35714286]]\n",
            "features are independent\n"
          ]
        }
      ],
      "source": [
        "#A3\n",
        "from scipy.stats import chi2_contingency\n",
        "contingency_table=pd.crosstab(index=df['age '],columns=[df['income'],df['student'],df['credit_rating'],df['buys_computer']])\n",
        "chi2,p,dof,expected=chi2_contingency(contingency_table)\n",
        "print(\"chi square value \", chi2)\n",
        "print(\" p value \", p)\n",
        "print(\" degrees of freedom are \", dof)\n",
        "print(\"expected frequencies \", expected)\n",
        "alpha=0.05\n",
        "if(p<=alpha):\n",
        "    print(\"features are dependent\")\n",
        "else:\n",
        "    print(\"features are independent\")"
      ]
    },
    {
      "cell_type": "code",
      "execution_count": null,
      "id": "e3aae388",
      "metadata": {
        "scrolled": true,
        "id": "e3aae388",
        "outputId": "34f60715-35a8-4e1d-bf48-ad415be852af"
      },
      "outputs": [
        {
          "name": "stdout",
          "output_type": "stream",
          "text": [
            "accuracy obtained  1.0\n",
            "classification report               precision    recall  f1-score   support\n",
            "\n",
            "         yes       1.00      1.00      1.00         3\n",
            "\n",
            "    accuracy                           1.00         3\n",
            "   macro avg       1.00      1.00      1.00         3\n",
            "weighted avg       1.00      1.00      1.00         3\n",
            "\n",
            " confusion matrix  [[3]]\n"
          ]
        },
        {
          "name": "stderr",
          "output_type": "stream",
          "text": [
            "C:\\Users\\madhu\\AppData\\Local\\Temp\\ipykernel_30768\\2156509490.py:11: SettingWithCopyWarning: \n",
            "A value is trying to be set on a copy of a slice from a DataFrame.\n",
            "Try using .loc[row_indexer,col_indexer] = value instead\n",
            "\n",
            "See the caveats in the documentation: https://pandas.pydata.org/pandas-docs/stable/user_guide/indexing.html#returning-a-view-versus-a-copy\n",
            "  feature['age ']=label_encoder.fit_transform(feature['age '].astype(str))\n",
            "C:\\Users\\madhu\\AppData\\Local\\Temp\\ipykernel_30768\\2156509490.py:12: SettingWithCopyWarning: \n",
            "A value is trying to be set on a copy of a slice from a DataFrame.\n",
            "Try using .loc[row_indexer,col_indexer] = value instead\n",
            "\n",
            "See the caveats in the documentation: https://pandas.pydata.org/pandas-docs/stable/user_guide/indexing.html#returning-a-view-versus-a-copy\n",
            "  feature['income']=label_encoder.fit_transform(feature['income'])\n",
            "C:\\Users\\madhu\\AppData\\Local\\Temp\\ipykernel_30768\\2156509490.py:13: SettingWithCopyWarning: \n",
            "A value is trying to be set on a copy of a slice from a DataFrame.\n",
            "Try using .loc[row_indexer,col_indexer] = value instead\n",
            "\n",
            "See the caveats in the documentation: https://pandas.pydata.org/pandas-docs/stable/user_guide/indexing.html#returning-a-view-versus-a-copy\n",
            "  feature['student']=label_encoder.fit_transform(feature['student'])\n",
            "C:\\Users\\madhu\\AppData\\Local\\Temp\\ipykernel_30768\\2156509490.py:14: SettingWithCopyWarning: \n",
            "A value is trying to be set on a copy of a slice from a DataFrame.\n",
            "Try using .loc[row_indexer,col_indexer] = value instead\n",
            "\n",
            "See the caveats in the documentation: https://pandas.pydata.org/pandas-docs/stable/user_guide/indexing.html#returning-a-view-versus-a-copy\n",
            "  feature['credit_rating']=label_encoder.fit_transform(feature['credit_rating'])\n"
          ]
        }
      ],
      "source": [
        "#A4\n",
        "from sklearn.model_selection import train_test_split\n",
        "from sklearn.metrics import accuracy_score,classification_report,confusion_matrix\n",
        "from sklearn.naive_bayes import GaussianNB\n",
        "from sklearn import preprocessing\n",
        "import seaborn as sns\n",
        "import matplotlib.pyplot as plt\n",
        "feature=df[['age ','income','student','credit_rating']]\n",
        "target=df['buys_computer']\n",
        "label_encoder=preprocessing.LabelEncoder()\n",
        "feature['age ']=label_encoder.fit_transform(feature['age '].astype(str))\n",
        "feature['income']=label_encoder.fit_transform(feature['income'])\n",
        "feature['student']=label_encoder.fit_transform(feature['student'])\n",
        "feature['credit_rating']=label_encoder.fit_transform(feature['credit_rating'])\n",
        "Train_x,Test_x,Train_y,Test_y=train_test_split(feature,target,test_size=0.2,random_state=50)\n",
        "NB_model=GaussianNB()\n",
        "NB_model.fit(Train_x,Train_y)\n",
        "pred=NB_model.predict(Test_x)\n",
        "print(\"accuracy obtained \", accuracy_score(Test_y,pred))\n",
        "print(\"classification report\", classification_report(Test_y,pred))\n",
        "print(\" confusion matrix \", confusion_matrix(Test_y,pred))"
      ]
    },
    {
      "cell_type": "code",
      "execution_count": null,
      "id": "d90c6939",
      "metadata": {
        "id": "d90c6939",
        "outputId": "1186efa4-7b34-4b48-af2e-4f030e131730"
      },
      "outputs": [
        {
          "name": "stdout",
          "output_type": "stream",
          "text": [
            "Index(['age ', 'income', 'student', 'credit_rating', 'buys_computer'], dtype='object')\n"
          ]
        }
      ],
      "source": [
        "print(df.columns)"
      ]
    },
    {
      "cell_type": "code",
      "execution_count": null,
      "id": "5cdfb397",
      "metadata": {
        "id": "5cdfb397",
        "outputId": "e09d78f3-7610-4c79-bc73-325b96a0ddfd"
      },
      "outputs": [
        {
          "data": {
            "image/png": "[encoded data removed]",
            "text/plain": [
              "<Figure size 800x600 with 1 Axes>"
            ]
          },
          "metadata": {},
          "output_type": "display_data"
        }
      ],
      "source": [
        "Confusion_Matrix=confusion_matrix(Test_y,pred)\n",
        "plt.figure(figsize=(8,6))\n",
        "sns.heatmap(Confusion_Matrix,annot=True,fmt='d',cmap='Blues',cbar=False)\n",
        "plt.xlabel('Predicted output')\n",
        "plt.ylabel('Actual outptut')\n",
        "plt.title('Confusion matrix ')\n",
        "plt.show()"
      ]
    },
    {
      "cell_type": "code",
      "execution_count": null,
      "id": "e00e4371",
      "metadata": {
        "id": "e00e4371",
        "outputId": "c574dc84-4e6b-4405-8880-f6cb502b411c"
      },
      "outputs": [
        {
          "data": {
            "text/html": [
              "<div>\n",
              "<style scoped>\n",
              "    .dataframe tbody tr th:only-of-type {\n",
              "        vertical-align: middle;\n",
              "    }\n",
              "\n",
              "    .dataframe tbody tr th {\n",
              "        vertical-align: top;\n",
              "    }\n",
              "\n",
              "    .dataframe thead th {\n",
              "        text-align: right;\n",
              "    }\n",
              "</style>\n",
              "<table border=\"1\" class=\"dataframe\">\n",
              "  <thead>\n",
              "    <tr style=\"text-align: right;\">\n",
              "      <th></th>\n",
              "      <th>Unnamed: 0</th>\n",
              "      <th>id</th>\n",
              "      <th>headline</th>\n",
              "      <th>written_by</th>\n",
              "      <th>news</th>\n",
              "      <th>label</th>\n",
              "    </tr>\n",
              "  </thead>\n",
              "  <tbody>\n",
              "    <tr>\n",
              "      <th>0</th>\n",
              "      <td>0</td>\n",
              "      <td>9653</td>\n",
              "      <td>Ethics Questions Dogged Agriculture Nominee as...</td>\n",
              "      <td>Eric Lipton and Steve Eder</td>\n",
              "      <td>WASHINGTON  —   In Sonny Perdue’s telling, Geo...</td>\n",
              "      <td>0</td>\n",
              "    </tr>\n",
              "    <tr>\n",
              "      <th>1</th>\n",
              "      <td>1</td>\n",
              "      <td>10041</td>\n",
              "      <td>U.S. Must Dig Deep to Stop Argentina’s Lionel ...</td>\n",
              "      <td>David Waldstein</td>\n",
              "      <td>HOUSTON  —   Venezuela had a plan. It was a ta...</td>\n",
              "      <td>0</td>\n",
              "    </tr>\n",
              "    <tr>\n",
              "      <th>2</th>\n",
              "      <td>2</td>\n",
              "      <td>19113</td>\n",
              "      <td>Cotton to House: ’Do Not Walk the Plank and Vo...</td>\n",
              "      <td>Pam Key</td>\n",
              "      <td>Sunday on ABC’s “This Week,” while discussing ...</td>\n",
              "      <td>0</td>\n",
              "    </tr>\n",
              "    <tr>\n",
              "      <th>3</th>\n",
              "      <td>3</td>\n",
              "      <td>6868</td>\n",
              "      <td>Paul LePage, Besieged Maine Governor, Sends Co...</td>\n",
              "      <td>Jess Bidgood</td>\n",
              "      <td>AUGUSTA, Me.  —   The beleaguered Republican g...</td>\n",
              "      <td>0</td>\n",
              "    </tr>\n",
              "    <tr>\n",
              "      <th>4</th>\n",
              "      <td>4</td>\n",
              "      <td>7596</td>\n",
              "      <td>A Digital 9/11 If Trump Wins</td>\n",
              "      <td>Finian Cunningham</td>\n",
              "      <td>Finian Cunningham has written extensively on...</td>\n",
              "      <td>1</td>\n",
              "    </tr>\n",
              "    <tr>\n",
              "      <th>...</th>\n",
              "      <td>...</td>\n",
              "      <td>...</td>\n",
              "      <td>...</td>\n",
              "      <td>...</td>\n",
              "      <td>...</td>\n",
              "      <td>...</td>\n",
              "    </tr>\n",
              "    <tr>\n",
              "      <th>20795</th>\n",
              "      <td>20795</td>\n",
              "      <td>5671</td>\n",
              "      <td>NaN</td>\n",
              "      <td>NeverSurrender</td>\n",
              "      <td>No, you'll be a dog licking of the vomit of yo...</td>\n",
              "      <td>1</td>\n",
              "    </tr>\n",
              "    <tr>\n",
              "      <th>20796</th>\n",
              "      <td>20796</td>\n",
              "      <td>14831</td>\n",
              "      <td>Albert Pike and the European Migrant Crisis</td>\n",
              "      <td>Rixon Stewart</td>\n",
              "      <td>By Rixon Stewart on November 5, 2016 Rixon Ste...</td>\n",
              "      <td>1</td>\n",
              "    </tr>\n",
              "    <tr>\n",
              "      <th>20797</th>\n",
              "      <td>20797</td>\n",
              "      <td>18142</td>\n",
              "      <td>Dakota Access Caught Infiltrating Protests to ...</td>\n",
              "      <td>Eddy Lavine</td>\n",
              "      <td>posted by Eddie You know the Dakota Access Pip...</td>\n",
              "      <td>1</td>\n",
              "    </tr>\n",
              "    <tr>\n",
              "      <th>20798</th>\n",
              "      <td>20798</td>\n",
              "      <td>12139</td>\n",
              "      <td>How to Stretch the Summer Solstice - The New Y...</td>\n",
              "      <td>Alison S. Cohn</td>\n",
              "      <td>It’s officially summer, and the Society Boutiq...</td>\n",
              "      <td>0</td>\n",
              "    </tr>\n",
              "    <tr>\n",
              "      <th>20799</th>\n",
              "      <td>20799</td>\n",
              "      <td>15660</td>\n",
              "      <td>Emory University to Pay for ’100 Percent’ of U...</td>\n",
              "      <td>Tom Ciccotta</td>\n",
              "      <td>Emory University in Atlanta, Georgia, has anno...</td>\n",
              "      <td>0</td>\n",
              "    </tr>\n",
              "  </tbody>\n",
              "</table>\n",
              "<p>20800 rows × 6 columns</p>\n",
              "</div>"
            ],
            "text/plain": [
              "       Unnamed: 0     id                                           headline  \\\n",
              "0               0   9653  Ethics Questions Dogged Agriculture Nominee as...   \n",
              "1               1  10041  U.S. Must Dig Deep to Stop Argentina’s Lionel ...   \n",
              "2               2  19113  Cotton to House: ’Do Not Walk the Plank and Vo...   \n",
              "3               3   6868  Paul LePage, Besieged Maine Governor, Sends Co...   \n",
              "4               4   7596                       A Digital 9/11 If Trump Wins   \n",
              "...           ...    ...                                                ...   \n",
              "20795       20795   5671                                                NaN   \n",
              "20796       20796  14831        Albert Pike and the European Migrant Crisis   \n",
              "20797       20797  18142  Dakota Access Caught Infiltrating Protests to ...   \n",
              "20798       20798  12139  How to Stretch the Summer Solstice - The New Y...   \n",
              "20799       20799  15660  Emory University to Pay for ’100 Percent’ of U...   \n",
              "\n",
              "                       written_by  \\\n",
              "0      Eric Lipton and Steve Eder   \n",
              "1                 David Waldstein   \n",
              "2                         Pam Key   \n",
              "3                    Jess Bidgood   \n",
              "4               Finian Cunningham   \n",
              "...                           ...   \n",
              "20795              NeverSurrender   \n",
              "20796               Rixon Stewart   \n",
              "20797                 Eddy Lavine   \n",
              "20798              Alison S. Cohn   \n",
              "20799                Tom Ciccotta   \n",
              "\n",
              "                                                    news  label  \n",
              "0      WASHINGTON  —   In Sonny Perdue’s telling, Geo...      0  \n",
              "1      HOUSTON  —   Venezuela had a plan. It was a ta...      0  \n",
              "2      Sunday on ABC’s “This Week,” while discussing ...      0  \n",
              "3      AUGUSTA, Me.  —   The beleaguered Republican g...      0  \n",
              "4        Finian Cunningham has written extensively on...      1  \n",
              "...                                                  ...    ...  \n",
              "20795  No, you'll be a dog licking of the vomit of yo...      1  \n",
              "20796  By Rixon Stewart on November 5, 2016 Rixon Ste...      1  \n",
              "20797  posted by Eddie You know the Dakota Access Pip...      1  \n",
              "20798  It’s officially summer, and the Society Boutiq...      0  \n",
              "20799  Emory University in Atlanta, Georgia, has anno...      0  \n",
              "\n",
              "[20800 rows x 6 columns]"
            ]
          },
          "execution_count": 10,
          "metadata": {},
          "output_type": "execute_result"
        }
      ],
      "source": [
        "#A5\n",
        "import pandas as pd\n",
        "import numpy as np\n",
        "DF=pd.read_csv('train_news.csv')\n",
        "DF"
      ]
    },
    {
      "cell_type": "code",
      "execution_count": null,
      "id": "55bb15aa",
      "metadata": {
        "id": "55bb15aa",
        "outputId": "f15c10fc-ddc9-406e-d3e6-84f92568be6d"
      },
      "outputs": [
        {
          "name": "stdout",
          "output_type": "stream",
          "text": [
            "accuracy obtained is  0.9\n",
            "classification report                precision    recall  f1-score   support\n",
            "\n",
            "           0       0.86      0.95      0.91      2087\n",
            "           1       0.95      0.85      0.89      2073\n",
            "\n",
            "    accuracy                           0.90      4160\n",
            "   macro avg       0.90      0.90      0.90      4160\n",
            "weighted avg       0.90      0.90      0.90      4160\n",
            "\n",
            "confusion matrix  [[1990   97]\n",
            " [ 319 1754]]\n"
          ]
        },
        {
          "data": {
            "image/png": "[encoded data removed]",
            "text/plain": [
              "<Figure size 800x600 with 1 Axes>"
            ]
          },
          "metadata": {},
          "output_type": "display_data"
        },
        {
          "name": "stdout",
          "output_type": "stream",
          "text": [
            "                                                    news  bin_pred\n",
            "3835   Sesame Seeds for Knee Osteoarthritis VN:F [1.9...      fake\n",
            "11835  10 \\nWell folks, it looks like the chickens ha...      fake\n",
            "6961   Good morning. (Want to get California Today by...  not fake\n",
            "16112  Sustainable salt water battery won't corrode a...      fake\n",
            "7185   by Yves Smith \\nYves here. This Real News Netw...      fake\n",
            "...                                                  ...       ...\n",
            "11228  SAN FRANCISCO (AP)  —   Federal immigration of...  not fake\n",
            "5076   A new report shows that only seven out of 10 o...      fake\n",
            "9206   Home › POLITICS › DON’T LET DEBBIE WASSERMAN S...      fake\n",
            "8454   Cancers of the colon and rectum have been decl...  not fake\n",
            "4907   PHOENIX  —   Donald J. Trump won Arizona’s pre...  not fake\n",
            "\n",
            "[4160 rows x 2 columns]\n"
          ]
        }
      ],
      "source": [
        "from sklearn.feature_extraction.text import CountVectorizer\n",
        "from sklearn.naive_bayes import MultinomialNB\n",
        "import seaborn as sns\n",
        "import matplotlib.pyplot as plt\n",
        "DF['news']=DF['news'].fillna('')\n",
        "x=DF['news']\n",
        "y=DF['label']\n",
        "train_x,test_x,train_y,test_y=train_test_split(x,y,test_size=0.2,random_state=50)\n",
        "vectorize=CountVectorizer()\n",
        "x_train_vect=vectorize.fit_transform(train_x)\n",
        "x_test_vect=vectorize.transform(test_x)\n",
        "classifier_NB=MultinomialNB()\n",
        "classifier_NB.fit(x_train_vect,train_y)\n",
        "y_pred=classifier_NB.predict(x_test_vect)\n",
        "label_mapping={0:'not fake',1:'fake'}\n",
        "y_pred_label=[label_mapping[label] for label in y_pred]\n",
        "test_y_label=[label_mapping[label] for label in test_y]\n",
        "accuracy=accuracy_score(test_y,y_pred)\n",
        "clf_report=classification_report(test_y,y_pred)\n",
        "Confusion_matrix=confusion_matrix(test_y,y_pred)\n",
        "print(\"accuracy obtained is \",accuracy)\n",
        "print(\"classification report \",clf_report)\n",
        "print(\"confusion matrix \", Confusion_matrix)\n",
        "plt.figure(figsize=(8,6))\n",
        "sns.heatmap(Confusion_matrix,annot=True,fmt='d',cmap='Blues',cbar=False)\n",
        "plt.xlabel('Predicted Label')\n",
        "plt.ylabel('Actual Label')\n",
        "plt.title('Confusion Matrix')\n",
        "plt.show()\n",
        "df_output=pd.DataFrame({'news':test_x,'bin_pred':y_pred_label})\n",
        "print(df_output)"
      ]
    },
    {
      "cell_type": "code",
      "execution_count": null,
      "id": "d8f766ad",
      "metadata": {
        "id": "d8f766ad"
      },
      "outputs": [],
      "source": []
    }
  ],
  "metadata": {
    "kernelspec": {
      "display_name": "Python 3 (ipykernel)",
      "language": "python",
      "name": "python3"
    },
    "language_info": {
      "codemirror_mode": {
        "name": "ipython",
        "version": 3
      },
      "file_extension": ".py",
      "mimetype": "text/x-python",
      "name": "python",
      "nbconvert_exporter": "python",
      "pygments_lexer": "ipython3",
      "version": "3.11.4"
    },
    "colab": {
      "provenance": []
    }
  },
  "nbformat": 4,
  "nbformat_minor": 5
}