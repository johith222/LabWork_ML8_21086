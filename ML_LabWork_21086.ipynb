{
  "nbformat": 4,
  "nbformat_minor": 0,
  "metadata": {
    "colab": {
      "provenance": []
    },
    "kernelspec": {
      "name": "python3",
      "display_name": "Python 3"
    },
    "language_info": {
      "name": "python"
    }
  },
  "cells": [
    {
      "cell_type": "code",
      "source": [
        "import pandas as pd\n",
        "d_xl = pd.read_excel(\"Lab8_data.xlsx\")"
      ],
      "metadata": {
        "id": "ewWQHI-GWFl0"
      },
      "execution_count": 7,
      "outputs": []
    },
    {
      "cell_type": "markdown",
      "source": [
        "**A1**"
      ],
      "metadata": {
        "id": "8hh6_mGiYEAt"
      }
    },
    {
      "cell_type": "code",
      "source": [
        "print(\"Prior probabilties for each features w.r.t 'buys_computer'\\n\")\n",
        "for column in d_xl.columns:\n",
        "    if column != 'buys_computer':\n",
        "        print(f\"\\nPrior Probabilities for {column.upper()}:\")\n",
        "        prior_probabilities = d_xl.groupby(column)['buys_computer'].value_counts(normalize=True)\n",
        "        print(prior_probabilities)\n",
        "        print()"
      ],
      "metadata": {
        "colab": {
          "base_uri": "https://localhost:8080/"
        },
        "id": "vaV8h80pWT7O",
        "outputId": "27f99f02-9f50-4faa-82d7-45e10f840e81"
      },
      "execution_count": 8,
      "outputs": [
        {
          "output_type": "stream",
          "name": "stdout",
          "text": [
            "Prior probabilties for each features w.r.t 'buys_computer'\n",
            "\n",
            "\n",
            "Prior Probabilities for AGE:\n",
            "age    buys_computer\n",
            "31…40  yes              1.000000\n",
            "<=30   no               0.600000\n",
            "       yes              0.400000\n",
            ">40    yes              0.666667\n",
            "       no               0.333333\n",
            ">41    yes              1.000000\n",
            ">42    no               1.000000\n",
            "Name: buys_computer, dtype: float64\n",
            "\n",
            "\n",
            "Prior Probabilities for INCOME:\n",
            "income  buys_computer\n",
            "high    no               0.500000\n",
            "        yes              0.500000\n",
            "low     yes              0.750000\n",
            "        no               0.250000\n",
            "medium  yes              0.666667\n",
            "        no               0.333333\n",
            "Name: buys_computer, dtype: float64\n",
            "\n",
            "\n",
            "Prior Probabilities for STUDENT:\n",
            "student  buys_computer\n",
            "no       no               0.571429\n",
            "         yes              0.428571\n",
            "yes      yes              0.857143\n",
            "         no               0.142857\n",
            "Name: buys_computer, dtype: float64\n",
            "\n",
            "\n",
            "Prior Probabilities for CREDIT_RATING:\n",
            "credit_rating  buys_computer\n",
            "excellent      no               0.50\n",
            "               yes              0.50\n",
            "fair           yes              0.75\n",
            "               no               0.25\n",
            "Name: buys_computer, dtype: float64\n",
            "\n"
          ]
        }
      ]
    },
    {
      "cell_type": "code",
      "source": [],
      "metadata": {
        "id": "8nBUrNObWT-6"
      },
      "execution_count": null,
      "outputs": []
    },
    {
      "cell_type": "markdown",
      "source": [
        "**A4**"
      ],
      "metadata": {
        "id": "DEajPrv9YL2O"
      }
    },
    {
      "cell_type": "code",
      "source": [
        "from sklearn.naive_bayes import GaussianNB\n",
        "\n",
        "from sklearn.model_selection import train_test_split as tts\n",
        "\n",
        "from sklearn.preprocessing import LabelEncoder as LE\n",
        "\n",
        "label_encoder = LE()\n",
        "\n",
        "dxl_encoded = d_xl.copy()\n",
        "\n",
        "for col in d_xl.columns:\n",
        "\n",
        "    if d_xl[col].dtype == 'object':\n",
        "\n",
        "        dxl_encoded[col] = label_encoder.fit_transform(d_xl[col])\n",
        "\n",
        "\n",
        "X = dxl_encoded.loc[:, 'age':'credit_rating']\n",
        "\n",
        "y = dxl_encoded['buys_computer']\n",
        "\n",
        "X_train, X_test, y_train, y_test = tts(X, y, test_size=0.2, random_state=42)\n",
        "\n",
        "model = GaussianNB()\n",
        "\n",
        "model.fit(X_train, y_train)\n",
        "\n",
        "predicted = model.predict(X_test)\n",
        "\n",
        "print(X_test)\n",
        "\n",
        "print(\"\\nPredicted classes for test data:\")\n",
        "\n",
        "print(predicted)"
      ],
      "metadata": {
        "colab": {
          "base_uri": "https://localhost:8080/"
        },
        "id": "V4QTI6pFWUBN",
        "outputId": "e82ad742-70fc-4a87-d91d-a244fc8ff7f5"
      },
      "execution_count": 11,
      "outputs": [
        {
          "output_type": "stream",
          "name": "stdout",
          "text": [
            "    age  income  student  credit_rating\n",
            "9     2       2        1              1\n",
            "11    0       2        0              0\n",
            "0     1       0        0              1\n",
            "\n",
            "Predicted classes for test data:\n",
            "[1 0 1]\n"
          ]
        }
      ]
    }
  ]
}